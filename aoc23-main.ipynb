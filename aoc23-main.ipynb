{
 "cells": [
  {
   "cell_type": "markdown",
   "metadata": {},
   "source": [
    "# AOC 2023 Main #"
   ]
  },
  {
   "cell_type": "markdown",
   "metadata": {},
   "source": [
    "## Imports ##"
   ]
  },
  {
   "cell_type": "code",
   "execution_count": 25,
   "metadata": {},
   "outputs": [],
   "source": [
    "import numpy as np\n",
    "import re"
   ]
  },
  {
   "cell_type": "markdown",
   "metadata": {},
   "source": [
    "## 1-1 ##"
   ]
  },
  {
   "cell_type": "code",
   "execution_count": 13,
   "metadata": {},
   "outputs": [
    {
     "data": {
      "text/plain": [
       "True"
      ]
     },
     "execution_count": 13,
     "metadata": {},
     "output_type": "execute_result"
    }
   ],
   "source": [
    "\"2\".isdigit()"
   ]
  },
  {
   "cell_type": "code",
   "execution_count": 19,
   "metadata": {},
   "outputs": [
    {
     "name": "stdout",
     "output_type": "stream",
     "text": [
      "p False\n",
      "q False\n",
      "r False\n",
      "3 True\n",
      "s False\n",
      "t False\n",
      "u False\n",
      "8 True\n",
      "v False\n",
      "w False\n",
      "x False\n"
     ]
    }
   ],
   "source": [
    "line = \"pqr3stu8vwx\"\n",
    "for i in range(len(line)):\n",
    "    print(line[i], line[i].isdigit())"
   ]
  },
  {
   "cell_type": "code",
   "execution_count": 23,
   "metadata": {},
   "outputs": [
    {
     "name": "stdout",
     "output_type": "stream",
     "text": [
      "53334\n"
     ]
    }
   ],
   "source": [
    "# Get the first and last digit from each string\n",
    "sum = 0\n",
    "with open(\"inputs/1-1.txt\", \"r\") as f:\n",
    "    while True:\n",
    "        line = f.readline()\n",
    "        if not line:\n",
    "            break\n",
    "\n",
    "        fwd = -1\n",
    "        bkwd = -1\n",
    "        # print(line)\n",
    "        for i in range(len(line)):\n",
    "            if fwd > -1 and bkwd > -1:\n",
    "                break\n",
    "            # print(line[i], line[-(i+1)])\n",
    "            if fwd == -1 and line[i].isdigit():\n",
    "                fwd = int(line[i])\n",
    "            if bkwd == -1 and line[-(i + 1)].isdigit():\n",
    "                bkwd = int(line[-(i + 1)])\n",
    "        # print(fwd, bkwd)\n",
    "        sum += 10 * fwd + bkwd\n",
    "\n",
    "print(sum)"
   ]
  },
  {
   "cell_type": "markdown",
   "metadata": {},
   "source": [
    "## 1-2 ##"
   ]
  },
  {
   "cell_type": "code",
   "execution_count": 45,
   "metadata": {},
   "outputs": [
    {
     "name": "stdout",
     "output_type": "stream",
     "text": [
      "one\n",
      "two\n"
     ]
    }
   ],
   "source": [
    "pattern = \"(one|two)\"\n",
    "s = \"asfsadfoneasdfawetwo\"\n",
    "for m in re.finditer(pattern, s):\n",
    "    print(s[m.start() : m.end()])"
   ]
  },
  {
   "cell_type": "code",
   "execution_count": 48,
   "metadata": {},
   "outputs": [
    {
     "name": "stdout",
     "output_type": "stream",
     "text": [
      "(one|two|three|four|five|six|seven|eight|nine)\n"
     ]
    }
   ],
   "source": []
  },
  {
   "cell_type": "code",
   "execution_count": 61,
   "metadata": {},
   "outputs": [
    {
     "name": "stdout",
     "output_type": "stream",
     "text": [
      "(one|two|three|four|five|six|seven|eight|nine)\n",
      "two1nine\n",
      "\n",
      "1 at 3 1 at 5\n",
      "two 0 3\n",
      "nine 4 8\n",
      "2 9\n",
      "eightwothree\n",
      "\n",
      "-1 at 10000 -1 at 0\n",
      "eight 0 5\n",
      "three 7 12\n",
      "8 3\n",
      "abcone2threexyz\n",
      "\n",
      "2 at 6 2 at 8\n",
      "one 3 6\n",
      "three 7 12\n",
      "1 3\n",
      "xtwone3four\n",
      "\n",
      "3 at 6 3 at 8\n",
      "two 1 4\n",
      "four 7 11\n",
      "2 4\n",
      "4nineeightseven2\n",
      "\n",
      "4 at 0 2 at 17\n",
      "nine 1 5\n",
      "eight 5 10\n",
      "seven 10 15\n",
      "4 2\n",
      "zoneight234\n",
      "\n",
      "2 at 8 4 at 12\n",
      "one 1 4\n",
      "1 4\n",
      "7pqrstsixteen\n",
      "7 at 0 7 at 2\n",
      "six 6 9\n",
      "7 6\n",
      "281\n"
     ]
    }
   ],
   "source": [
    "sum = 0\n",
    "digit_names = [\"one\", \"two\", \"three\", \"four\",\n",
    "               \"five\", \"six\", \"seven\", \"eight\", \"nine\"]\n",
    "pattern = \"(\" + \"|\".join(digit_names) + \")\"\n",
    "# reversed_digit_names = [x[::-1] for x in digit_names]\n",
    "print(pattern)\n",
    "with open(\"inputs/1-2-ex.txt\", \"r\") as f:\n",
    "    while True:\n",
    "        line = f.readline()\n",
    "        if not line:\n",
    "            break\n",
    "\n",
    "        fwd = -1\n",
    "        bkwd = -1\n",
    "        fwd_i = 10000\n",
    "        bkwd_i = 0\n",
    "        print(line)\n",
    "        for i in range(len(line)):\n",
    "            if fwd > -1 and bkwd > -1:\n",
    "                break\n",
    "            # print(line[i], line[-(i+1)])\n",
    "            if fwd == -1 and line[i].isdigit():\n",
    "                fwd_i = i\n",
    "                fwd = int(line[i])\n",
    "            if bkwd == -1 and line[-(i + 1)].isdigit():\n",
    "                bkwd_i = len(line) - i + 1\n",
    "                bkwd = int(line[-(i + 1)])\n",
    "\n",
    "        print(fwd, \"at\", fwd_i, bkwd, \"at\", bkwd_i)\n",
    "        for m in re.finditer(pattern, line):\n",
    "            print(line[m.start(): m.end()], m.start(), m.end())\n",
    "            if m.start() < fwd_i:\n",
    "                digit_name = line[m.start(): m.end()]\n",
    "                fwd = digit_names.index(digit_name) + 1\n",
    "                fwd_i = m.start()\n",
    "            if m.end() > bkwd_i:\n",
    "                digit_name = line[m.start(): m.end()]\n",
    "                bkwd = digit_names.index(digit_name) + 1\n",
    "                bkwd_i = m.start()\n",
    "\n",
    "        print(fwd, bkwd)\n",
    "        sum += 10 * fwd + bkwd\n",
    "\n",
    "print(sum)"
   ]
  }
 ],
 "metadata": {
  "kernelspec": {
   "display_name": "base",
   "language": "python",
   "name": "python3"
  },
  "language_info": {
   "codemirror_mode": {
    "name": "ipython",
    "version": 3
   },
   "file_extension": ".py",
   "mimetype": "text/x-python",
   "name": "python",
   "nbconvert_exporter": "python",
   "pygments_lexer": "ipython3",
   "version": "3.9.16"
  }
 },
 "nbformat": 4,
 "nbformat_minor": 2
}
