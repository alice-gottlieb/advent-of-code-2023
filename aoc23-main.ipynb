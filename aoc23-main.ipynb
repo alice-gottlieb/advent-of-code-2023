{
 "cells": [
  {
   "cell_type": "markdown",
   "metadata": {},
   "source": [
    "# AOC 2023 Main #"
   ]
  },
  {
   "cell_type": "markdown",
   "metadata": {},
   "source": [
    "# Imports #"
   ]
  },
  {
   "cell_type": "code",
   "execution_count": 1,
   "metadata": {},
   "outputs": [],
   "source": [
    "import numpy as np"
   ]
  },
  {
   "cell_type": "code",
   "execution_count": 13,
   "metadata": {},
   "outputs": [
    {
     "data": {
      "text/plain": [
       "True"
      ]
     },
     "execution_count": 13,
     "metadata": {},
     "output_type": "execute_result"
    }
   ],
   "source": [
    "\"2\".isdigit()"
   ]
  },
  {
   "cell_type": "code",
   "execution_count": 19,
   "metadata": {},
   "outputs": [
    {
     "name": "stdout",
     "output_type": "stream",
     "text": [
      "p False\n",
      "q False\n",
      "r False\n",
      "3 True\n",
      "s False\n",
      "t False\n",
      "u False\n",
      "8 True\n",
      "v False\n",
      "w False\n",
      "x False\n"
     ]
    }
   ],
   "source": [
    "line = \"pqr3stu8vwx\"\n",
    "for i in range(len(line)):\n",
    "    print(line[i], line[i].isdigit())"
   ]
  },
  {
   "cell_type": "code",
   "execution_count": 22,
   "metadata": {},
   "outputs": [
    {
     "name": "stdout",
     "output_type": "stream",
     "text": [
      "142\n"
     ]
    }
   ],
   "source": [
    "# Get the first and last digit from each string\n",
    "sum = 0\n",
    "with open(\"inputs/1-ex.txt\", \"r\") as f:\n",
    "    while True:\n",
    "        line = f.readline()\n",
    "        if not line:\n",
    "            break\n",
    "\n",
    "        fwd = -1\n",
    "        bkwd = -1\n",
    "        # print(line)\n",
    "        for i in range(len(line)):\n",
    "            if fwd > -1 and bkwd > -1:\n",
    "                break\n",
    "            # print(line[i], line[-(i+1)])\n",
    "            if fwd == -1 and line[i].isdigit():\n",
    "                fwd = int(line[i])\n",
    "            if bkwd == -1 and line[-(i + 1)].isdigit():\n",
    "                bkwd = int(line[-(i + 1)])\n",
    "        # print(fwd, bkwd)\n",
    "        sum += 10 * fwd + bkwd\n",
    "\n",
    "print(sum)"
   ]
  }
 ],
 "metadata": {
  "kernelspec": {
   "display_name": "base",
   "language": "python",
   "name": "python3"
  },
  "language_info": {
   "codemirror_mode": {
    "name": "ipython",
    "version": 3
   },
   "file_extension": ".py",
   "mimetype": "text/x-python",
   "name": "python",
   "nbconvert_exporter": "python",
   "pygments_lexer": "ipython3",
   "version": "3.9.16"
  }
 },
 "nbformat": 4,
 "nbformat_minor": 2
}
