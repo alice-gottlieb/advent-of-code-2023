{
 "cells": [
  {
   "cell_type": "markdown",
   "metadata": {},
   "source": [
    "# AOC 2023 Main #"
   ]
  },
  {
   "cell_type": "markdown",
   "metadata": {},
   "source": [
    "# Imports #"
   ]
  },
  {
   "cell_type": "code",
   "execution_count": 25,
   "metadata": {},
   "outputs": [],
   "source": [
    "import numpy as np\n",
    "import re"
   ]
  },
  {
   "cell_type": "markdown",
   "metadata": {},
   "source": [
    "# 1 #"
   ]
  },
  {
   "cell_type": "markdown",
   "metadata": {},
   "source": [
    "## 1-1 ##"
   ]
  },
  {
   "cell_type": "code",
   "execution_count": 13,
   "metadata": {},
   "outputs": [
    {
     "data": {
      "text/plain": [
       "True"
      ]
     },
     "execution_count": 13,
     "metadata": {},
     "output_type": "execute_result"
    }
   ],
   "source": [
    "\"2\".isdigit()"
   ]
  },
  {
   "cell_type": "code",
   "execution_count": 19,
   "metadata": {},
   "outputs": [
    {
     "name": "stdout",
     "output_type": "stream",
     "text": [
      "p False\n",
      "q False\n",
      "r False\n",
      "3 True\n",
      "s False\n",
      "t False\n",
      "u False\n",
      "8 True\n",
      "v False\n",
      "w False\n",
      "x False\n"
     ]
    }
   ],
   "source": [
    "line = \"pqr3stu8vwx\"\n",
    "for i in range(len(line)):\n",
    "    print(line[i], line[i].isdigit())"
   ]
  },
  {
   "cell_type": "code",
   "execution_count": 23,
   "metadata": {},
   "outputs": [
    {
     "name": "stdout",
     "output_type": "stream",
     "text": [
      "53334\n"
     ]
    }
   ],
   "source": [
    "# Get the first and last digit from each string\n",
    "sum = 0\n",
    "with open(\"inputs/1-1.txt\", \"r\") as f:\n",
    "    while True:\n",
    "        line = f.readline()\n",
    "        if not line:\n",
    "            break\n",
    "\n",
    "        fwd = -1\n",
    "        bkwd = -1\n",
    "        # print(line)\n",
    "        for i in range(len(line)):\n",
    "            if fwd > -1 and bkwd > -1:\n",
    "                break\n",
    "            # print(line[i], line[-(i+1)])\n",
    "            if fwd == -1 and line[i].isdigit():\n",
    "                fwd = int(line[i])\n",
    "            if bkwd == -1 and line[-(i + 1)].isdigit():\n",
    "                bkwd = int(line[-(i + 1)])\n",
    "        # print(fwd, bkwd)\n",
    "        sum += 10 * fwd + bkwd\n",
    "\n",
    "print(sum)"
   ]
  },
  {
   "cell_type": "markdown",
   "metadata": {},
   "source": [
    "## 1-2 ##"
   ]
  },
  {
   "cell_type": "code",
   "execution_count": 45,
   "metadata": {},
   "outputs": [
    {
     "name": "stdout",
     "output_type": "stream",
     "text": [
      "one\n",
      "two\n"
     ]
    }
   ],
   "source": [
    "pattern = \"(one|two)\"\n",
    "s = \"asfsadfoneasdfawetwo\"\n",
    "for m in re.finditer(pattern, s):\n",
    "    print(s[m.start() : m.end()])"
   ]
  },
  {
   "cell_type": "code",
   "execution_count": 65,
   "metadata": {},
   "outputs": [
    {
     "name": "stdout",
     "output_type": "stream",
     "text": [
      "52834\n"
     ]
    }
   ],
   "source": [
    "sum = 0\n",
    "digit_names = [\"one\", \"two\", \"three\", \"four\",\n",
    "               \"five\", \"six\", \"seven\", \"eight\", \"nine\"]\n",
    "pattern = \"(\" + \"|\".join(digit_names) + \")\"\n",
    "# print(pattern)\n",
    "with open(\"inputs/1-1.txt\", \"r\") as f:\n",
    "    while True:\n",
    "        line = f.readline()\n",
    "        if not line:\n",
    "            break\n",
    "\n",
    "        fwd = -1\n",
    "        bkwd = -1\n",
    "        fwd_i = 10000\n",
    "        bkwd_i = 0\n",
    "        # print(line)\n",
    "        for i in range(len(line)):\n",
    "            if fwd > -1 and bkwd > -1:\n",
    "                break\n",
    "            # print(line[i], line[-(i+1)])\n",
    "            if fwd == -1 and line[i].isdigit():\n",
    "                fwd_i = i\n",
    "                fwd = int(line[i])\n",
    "            if bkwd == -1 and line[-(i + 1)].isdigit():\n",
    "                bkwd_i = len(line) - i + 1\n",
    "                bkwd = int(line[-(i + 1)])\n",
    "\n",
    "        # print(fwd, \"at\", fwd_i, bkwd, \"at\", bkwd_i)\n",
    "        for m in re.finditer(pattern, line):\n",
    "            # print(line[m.start(): m.end()], m.start(), m.end())\n",
    "            if m.start() < fwd_i:\n",
    "                digit_name = line[m.start(): m.end()]\n",
    "                fwd = digit_names.index(digit_name) + 1\n",
    "                fwd_i = m.start()\n",
    "            if m.end() > bkwd_i:\n",
    "                digit_name = line[m.start(): m.end()]\n",
    "                bkwd = digit_names.index(digit_name) + 1\n",
    "                bkwd_i = m.start()\n",
    "\n",
    "        # print(fwd, bkwd)\n",
    "        sum += 10 * fwd + bkwd\n",
    "\n",
    "print(sum)"
   ]
  },
  {
   "cell_type": "markdown",
   "metadata": {},
   "source": [
    "# 2 #"
   ]
  },
  {
   "cell_type": "markdown",
   "metadata": {},
   "source": [
    "## 2-1 ##"
   ]
  },
  {
   "cell_type": "code",
   "execution_count": 66,
   "metadata": {},
   "outputs": [],
   "source": [
    "r_max = 12\n",
    "g_max = 13\n",
    "b_max = 14"
   ]
  },
  {
   "cell_type": "code",
   "execution_count": 73,
   "metadata": {},
   "outputs": [
    {
     "name": "stdout",
     "output_type": "stream",
     "text": [
      "1\n",
      "2\n",
      "3\n",
      "4\n",
      "5\n"
     ]
    }
   ],
   "source": [
    "with open(\"inputs/2-ex.txt\", \"r\") as f:\n",
    "    while True:\n",
    "        line = f.readline()\n",
    "        if not line:\n",
    "            break\n",
    "\n",
    "        # Get game id as the digits after the word \"Game \" and before the \":\"\n",
    "        colon_split = line.split(\":\")\n",
    "        id = colon_split[0][5:]\n",
    "        # print(id)\n",
    "        games = colon_split[1].split(\";\")"
   ]
  }
 ],
 "metadata": {
  "kernelspec": {
   "display_name": "base",
   "language": "python",
   "name": "python3"
  },
  "language_info": {
   "codemirror_mode": {
    "name": "ipython",
    "version": 3
   },
   "file_extension": ".py",
   "mimetype": "text/x-python",
   "name": "python",
   "nbconvert_exporter": "python",
   "pygments_lexer": "ipython3",
   "version": "3.9.16"
  }
 },
 "nbformat": 4,
 "nbformat_minor": 2
}
